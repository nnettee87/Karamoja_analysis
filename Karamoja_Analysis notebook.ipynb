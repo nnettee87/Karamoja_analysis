{
  "nbformat": 4,
  "nbformat_minor": 0,
  "metadata": {
    "colab": {
      "provenance": []
    },
    "kernelspec": {
      "name": "python3",
      "display_name": "Python 3"
    },
    "language_info": {
      "name": "python"
    }
  },
  "cells": [
    {
      "cell_type": "markdown",
      "source": [
        "# Introduction\n",
        "\n",
        "\n",
        "**Geospatial Analysis of Crop Yield Variability in Karamoja: Enhancing Food Security Monitoring**\n",
        "\n",
        "Introduction:\n",
        "\n",
        "This project addresses the critical issue of food insecurity in Karamoja, Uganda's most vulnerable region. Persistent challenges such as severe droughts and recurrent pest infestations have significantly impacted crop productivity, necessitating innovative approaches to agricultural monitoring and support.\n",
        "\n",
        "In response to this pressing need, Dalberg Data Insights (DDI) has developed a novel methodology utilizing satellite imagery to remotely assess the yield of sorghum and maize, the primary staple crops in Karamoja. This data science initiative aims to transform raw geospatial data into an interactive visualization tool, serving as a prototype for a comprehensive Food Security Monitoring system.\n",
        "\n",
        "The primary objective of this analysis is to create a robust, data-driven dashboard that visualizes crop yield variations across Karamoja for the 2017 growing season. This tool will enable stakeholders to:\n",
        "\n",
        "1. Visualize yield distribution at district and sub-county levels\n",
        "2. Analyze the correlation between crop productivity and population density\n",
        "3. Identify high-priority areas for agricultural interventions\n",
        "\n",
        "By integrating multiple data sources, including shapefiles of administrative boundaries and detailed crop distribution maps, this project seeks to provide actionable insights for NGOs operating in the region. The resulting visualization tool will facilitate evidence-based decision-making, allowing for more targeted and effective allocation of resources to areas of greatest need.\n",
        "\n",
        "This notebook documents the methodological approach, data preprocessing steps, and visualization techniques employed in developing this prototype. Through rigorous analysis and intuitive data representation, we aim to contribute to the ongoing efforts to enhance food security in Karamoja and demonstrate the potential of geospatial analytics in addressing complex humanitarian challenges."
      ],
      "metadata": {
        "id": "HHdiFxsFe1_G"
      }
    },
    {
      "cell_type": "markdown",
      "source": [
        "# Data collection and preparation\n",
        "Dataset Source Links https://archive.org/download/data_20190829/DATA.zip\n",
        "\n"
      ],
      "metadata": {
        "id": "uK780LAAaFlN"
      }
    },
    {
      "cell_type": "markdown",
      "source": [
        "# Data exploration and cleaning."
      ],
      "metadata": {
        "id": "0FbyLbRocZM0"
      }
    },
    {
      "cell_type": "code",
      "source": [
        "import pandas as pd\n",
        "import numpy as np\n",
        "import matplotlib.pyplot as plt\n",
        "# Load the  datasets\n",
        "yield_subcounty = pd.read_csv('/content/Uganda_Karamoja_Subcounty_Crop_Yield_Population.csv')\n",
        "yield_district = pd.read_csv('/content/Uganda_Karamoja_District_Crop_Yield_Population.csv')\n",
        "\n",
        "# Display basic information about the datasets\n",
        "print(yield_subcounty.info())\n",
        "print(yield_district.info())\n",
        "\n",
        "# Display the first few rows of each dataset\n",
        "print(yield_subcounty.head())\n",
        "print(yield_district.head())"
      ],
      "metadata": {
        "id": "cbQMf61lfR9y",
        "colab": {
          "base_uri": "https://localhost:8080/"
        },
        "collapsed": true,
        "outputId": "d371f43a-731d-4776-b916-1e453db585d3"
      },
      "execution_count": null,
      "outputs": [
        {
          "output_type": "stream",
          "name": "stdout",
          "text": [
            "<class 'pandas.core.frame.DataFrame'>\n",
            "RangeIndex: 52 entries, 0 to 51\n",
            "Data columns (total 13 columns):\n",
            " #   Column          Non-Null Count  Dtype  \n",
            "---  ------          --------------  -----  \n",
            " 0   OBJECTID        52 non-null     int64  \n",
            " 1   SUBCOUNTY_NAME  52 non-null     object \n",
            " 2   DISTRICT_NAME   52 non-null     object \n",
            " 3   POP             52 non-null     int64  \n",
            " 4   Area            52 non-null     int64  \n",
            " 5   Karamoja        52 non-null     object \n",
            " 6   S_Yield_Ha      52 non-null     float64\n",
            " 7   M_Yield_Ha      52 non-null     float64\n",
            " 8   Crop_Area_Ha    52 non-null     float64\n",
            " 9   S_Area_Ha       52 non-null     float64\n",
            " 10  M_Area_Ha       52 non-null     float64\n",
            " 11  S_Prod_Tot      52 non-null     float64\n",
            " 12  M_Prod_Tot      52 non-null     float64\n",
            "dtypes: float64(7), int64(3), object(3)\n",
            "memory usage: 5.4+ KB\n",
            "None\n",
            "<class 'pandas.core.frame.DataFrame'>\n",
            "RangeIndex: 7 entries, 0 to 6\n",
            "Data columns (total 11 columns):\n",
            " #   Column        Non-Null Count  Dtype  \n",
            "---  ------        --------------  -----  \n",
            " 0   OBJECTID      7 non-null      int64  \n",
            " 1   NAME          7 non-null      object \n",
            " 2   POP           7 non-null      int64  \n",
            " 3   Area          7 non-null      int64  \n",
            " 4   S_Yield_Ha    7 non-null      int64  \n",
            " 5   M_Yield_Ha    7 non-null      int64  \n",
            " 6   Crop_Area_Ha  7 non-null      float64\n",
            " 7   S_Area_Ha     7 non-null      float64\n",
            " 8   M_Area_Ha     7 non-null      float64\n",
            " 9   S_Prod_Tot    7 non-null      int64  \n",
            " 10  M_Prod_Tot    7 non-null      int64  \n",
            "dtypes: float64(3), int64(7), object(1)\n",
            "memory usage: 744.0+ bytes\n",
            "None\n",
            "   OBJECTID       SUBCOUNTY_NAME DISTRICT_NAME    POP        Area Karamoja  \\\n",
            "0       263              KACHERI        KOTIDO  17244  1067176155        Y   \n",
            "1       264               KOTIDO        KOTIDO  52771   597575188        Y   \n",
            "2       265  KOTIDO TOWN COUNCIL        KOTIDO  27389    23972401        Y   \n",
            "3       266         NAKAPERIMORU        KOTIDO  38775   419111591        Y   \n",
            "4       267           PANYANGARA        KOTIDO  65704   880955930        Y   \n",
            "\n",
            "   S_Yield_Ha   M_Yield_Ha  Crop_Area_Ha     S_Area_Ha   M_Area_Ha  \\\n",
            "0  354.207411  1137.467019   7023.533691   6434.342449  528.124229   \n",
            "1  367.890523  1162.996687  13587.990760  12455.592640  824.767081   \n",
            "2  369.314177  1167.005832   1656.531855   1520.322052    8.561644   \n",
            "3  283.324569   852.366578   7087.823334   6761.488901   45.721712   \n",
            "4  373.836926  1283.859882  10398.249390  10111.198130  172.611914   \n",
            "\n",
            "     S_Prod_Tot     M_Prod_Tot  \n",
            "0  2.279092e+06  600723.892900  \n",
            "1  4.582294e+06  959201.382500  \n",
            "2  5.614765e+05    9991.488268  \n",
            "3  1.915696e+06   38971.659080  \n",
            "4  3.779939e+06  221609.511400  \n",
            "   OBJECTID     NAME     POP        Area  S_Yield_Ha  M_Yield_Ha  \\\n",
            "0        92     ABIM   90385  2771977106         449        1040   \n",
            "1        96   AMUDAT  101790  1643582836         205        1297   \n",
            "2        20  KAABONG  627057  7373606003         279         945   \n",
            "3        85   KOTIDO  243157  3641539808         331        1148   \n",
            "4         5   MOROTO  127811  3570160948         128         355   \n",
            "\n",
            "   Crop_Area_Ha     S_Area_Ha    M_Area_Ha  S_Prod_Tot  M_Prod_Tot  \n",
            "0   5470.068394   3277.295971  1848.621855     1471506     1922567  \n",
            "1   5765.443719   2973.423860  2733.661014      609552     3545558  \n",
            "2  28121.672530  20544.194960  7394.416334     5731830     6987723  \n",
            "3  53032.649450  50247.443900  1751.372284    16631904     2010575  \n",
            "4   5954.814048   4741.748776  1190.050606      606944      422468  \n"
          ]
        }
      ]
    },
    {
      "cell_type": "code",
      "source": [
        "# Check for missing values\n",
        "yield_subcounty.isnull().sum()\n",
        "yield_district.isnull().sum()"
      ],
      "metadata": {
        "colab": {
          "base_uri": "https://localhost:8080/",
          "height": 429
        },
        "collapsed": true,
        "id": "iPk6gjiph-3b",
        "outputId": "659bf9e5-16dc-4278-97a4-f3b8a379f322"
      },
      "execution_count": null,
      "outputs": [
        {
          "output_type": "execute_result",
          "data": {
            "text/plain": [
              "OBJECTID        0\n",
              "NAME            0\n",
              "POP             0\n",
              "Area            0\n",
              "S_Yield_Ha      0\n",
              "M_Yield_Ha      0\n",
              "Crop_Area_Ha    0\n",
              "S_Area_Ha       0\n",
              "M_Area_Ha       0\n",
              "S_Prod_Tot      0\n",
              "M_Prod_Tot      0\n",
              "dtype: int64"
            ],
            "text/html": [
              "<div>\n",
              "<style scoped>\n",
              "    .dataframe tbody tr th:only-of-type {\n",
              "        vertical-align: middle;\n",
              "    }\n",
              "\n",
              "    .dataframe tbody tr th {\n",
              "        vertical-align: top;\n",
              "    }\n",
              "\n",
              "    .dataframe thead th {\n",
              "        text-align: right;\n",
              "    }\n",
              "</style>\n",
              "<table border=\"1\" class=\"dataframe\">\n",
              "  <thead>\n",
              "    <tr style=\"text-align: right;\">\n",
              "      <th></th>\n",
              "      <th>0</th>\n",
              "    </tr>\n",
              "  </thead>\n",
              "  <tbody>\n",
              "    <tr>\n",
              "      <th>OBJECTID</th>\n",
              "      <td>0</td>\n",
              "    </tr>\n",
              "    <tr>\n",
              "      <th>NAME</th>\n",
              "      <td>0</td>\n",
              "    </tr>\n",
              "    <tr>\n",
              "      <th>POP</th>\n",
              "      <td>0</td>\n",
              "    </tr>\n",
              "    <tr>\n",
              "      <th>Area</th>\n",
              "      <td>0</td>\n",
              "    </tr>\n",
              "    <tr>\n",
              "      <th>S_Yield_Ha</th>\n",
              "      <td>0</td>\n",
              "    </tr>\n",
              "    <tr>\n",
              "      <th>M_Yield_Ha</th>\n",
              "      <td>0</td>\n",
              "    </tr>\n",
              "    <tr>\n",
              "      <th>Crop_Area_Ha</th>\n",
              "      <td>0</td>\n",
              "    </tr>\n",
              "    <tr>\n",
              "      <th>S_Area_Ha</th>\n",
              "      <td>0</td>\n",
              "    </tr>\n",
              "    <tr>\n",
              "      <th>M_Area_Ha</th>\n",
              "      <td>0</td>\n",
              "    </tr>\n",
              "    <tr>\n",
              "      <th>S_Prod_Tot</th>\n",
              "      <td>0</td>\n",
              "    </tr>\n",
              "    <tr>\n",
              "      <th>M_Prod_Tot</th>\n",
              "      <td>0</td>\n",
              "    </tr>\n",
              "  </tbody>\n",
              "</table>\n",
              "</div><br><label><b>dtype:</b> int64</label>"
            ]
          },
          "metadata": {},
          "execution_count": 2
        }
      ]
    },
    {
      "cell_type": "code",
      "source": [
        "# Check for duplicate entries\n",
        "yield_subcounty.duplicated().sum()\n",
        "yield_district.duplicated().sum()"
      ],
      "metadata": {
        "colab": {
          "base_uri": "https://localhost:8080/"
        },
        "id": "gUnaLHTCmBpU",
        "outputId": "e64aee8a-cfe4-4395-f4ca-60e6692caf90"
      },
      "execution_count": null,
      "outputs": [
        {
          "output_type": "execute_result",
          "data": {
            "text/plain": [
              "0"
            ]
          },
          "metadata": {},
          "execution_count": 3
        }
      ]
    },
    {
      "cell_type": "code",
      "source": [
        "# Check for inconsistent naming or capitalization in categorical columns\n",
        "yield_subcounty['SUBCOUNTY_NAME'].value_counts()\n",
        "yield_district['NAME'].value_counts()"
      ],
      "metadata": {
        "colab": {
          "base_uri": "https://localhost:8080/",
          "height": 335
        },
        "collapsed": true,
        "id": "2Z0fpbIVifg1",
        "outputId": "9e6964f9-5a1a-408a-88b7-d011e05e9e02"
      },
      "execution_count": null,
      "outputs": [
        {
          "output_type": "execute_result",
          "data": {
            "text/plain": [
              "NAME\n",
              "ABIM             1\n",
              "AMUDAT           1\n",
              "KAABONG          1\n",
              "KOTIDO           1\n",
              "MOROTO           1\n",
              "NAKAPIRIPIRIT    1\n",
              "NAPAK            1\n",
              "Name: count, dtype: int64"
            ],
            "text/html": [
              "<div>\n",
              "<style scoped>\n",
              "    .dataframe tbody tr th:only-of-type {\n",
              "        vertical-align: middle;\n",
              "    }\n",
              "\n",
              "    .dataframe tbody tr th {\n",
              "        vertical-align: top;\n",
              "    }\n",
              "\n",
              "    .dataframe thead th {\n",
              "        text-align: right;\n",
              "    }\n",
              "</style>\n",
              "<table border=\"1\" class=\"dataframe\">\n",
              "  <thead>\n",
              "    <tr style=\"text-align: right;\">\n",
              "      <th></th>\n",
              "      <th>count</th>\n",
              "    </tr>\n",
              "    <tr>\n",
              "      <th>NAME</th>\n",
              "      <th></th>\n",
              "    </tr>\n",
              "  </thead>\n",
              "  <tbody>\n",
              "    <tr>\n",
              "      <th>ABIM</th>\n",
              "      <td>1</td>\n",
              "    </tr>\n",
              "    <tr>\n",
              "      <th>AMUDAT</th>\n",
              "      <td>1</td>\n",
              "    </tr>\n",
              "    <tr>\n",
              "      <th>KAABONG</th>\n",
              "      <td>1</td>\n",
              "    </tr>\n",
              "    <tr>\n",
              "      <th>KOTIDO</th>\n",
              "      <td>1</td>\n",
              "    </tr>\n",
              "    <tr>\n",
              "      <th>MOROTO</th>\n",
              "      <td>1</td>\n",
              "    </tr>\n",
              "    <tr>\n",
              "      <th>NAKAPIRIPIRIT</th>\n",
              "      <td>1</td>\n",
              "    </tr>\n",
              "    <tr>\n",
              "      <th>NAPAK</th>\n",
              "      <td>1</td>\n",
              "    </tr>\n",
              "  </tbody>\n",
              "</table>\n",
              "</div><br><label><b>dtype:</b> int64</label>"
            ]
          },
          "metadata": {},
          "execution_count": 4
        }
      ]
    },
    {
      "cell_type": "code",
      "source": [
        "# Check if all districts in the subcounty dataset are present in the district dataset\n",
        "subcounty_districts = yield_subcounty['DISTRICT_NAME'].unique()\n",
        "district_districts = yield_district['NAME'].unique()\n",
        "missing_districts = len(subcounty_districts) - len(district_districts)\n",
        "print(\"Districts in subcounty data but not in district data:\",( missing_districts))"
      ],
      "metadata": {
        "colab": {
          "base_uri": "https://localhost:8080/"
        },
        "id": "NaC6AeCQpWEo",
        "outputId": "a7ddf67c-fe45-4b5e-e9f8-1b112a1b5812"
      },
      "execution_count": null,
      "outputs": [
        {
          "output_type": "stream",
          "name": "stdout",
          "text": [
            "Districts in subcounty data but not in district data: 0\n"
          ]
        }
      ]
    },
    {
      "cell_type": "code",
      "source": [
        "# Save the cleaned datasets\n",
        "yield_subcounty.to_csv('cleaned_yield_subcounty.csv', index=False)\n",
        "yield_district.to_csv('cleaned_yield_district.csv', index=False)"
      ],
      "metadata": {
        "id": "2l0ORKuatdHQ"
      },
      "execution_count": null,
      "outputs": []
    },
    {
      "cell_type": "markdown",
      "source": [
        "\n",
        "# Data Integration\n",
        "\n",
        "In this step, we integrate our tabular yield and population data with geographic data from shapefiles. This process allows us to create a comprehensive dataset that combines agricultural statistics with spatial information."
      ],
      "metadata": {
        "id": "wRfr4JFrrhgr"
      }
    },
    {
      "cell_type": "markdown",
      "source": [
        "1.Load the cleaned data and the shapefiles:"
      ],
      "metadata": {
        "id": "I3R5iMnH6nid"
      }
    },
    {
      "cell_type": "code",
      "source": [
        "import geopandas as gpd\n",
        "# Load cleaned tabular data\n",
        "yield_subcounty = pd.read_csv('cleaned_yield_subcounty.csv')\n",
        "yield_district = pd.read_csv('cleaned_yield_district.csv')\n",
        "\n",
        "# Load shapefiles\n",
        "districts_shp = gpd.read_file('/content/Uganda_Districts.shp')\n",
        "subcounties_shp = gpd.read_file('/content/Uganda_Subcounties.shp')\n",
        "sorghum_shp = gpd.read_file('/content/Crop_Type_Map_Sorghum.shp')\n",
        "maize_shp = gpd.read_file('/content/Crop_Type_Map_Maize.shp')"
      ],
      "metadata": {
        "id": "ar5mjjD_66D4"
      },
      "execution_count": null,
      "outputs": []
    },
    {
      "cell_type": "markdown",
      "source": [
        "2.Examine the shapefiles to understand their structure:"
      ],
      "metadata": {
        "id": "cgV9TyVe-_Dp"
      }
    },
    {
      "cell_type": "code",
      "source": [
        "print(districts_shp.head())\n",
        "print(subcounties_shp.head())\n",
        "print(sorghum_shp.head())\n",
        "print(maize_shp.head())"
      ],
      "metadata": {
        "colab": {
          "base_uri": "https://localhost:8080/"
        },
        "id": "Cc27siMJ82Nx",
        "outputId": "d5104670-2ca4-4400-aa66-2f8d5d926027"
      },
      "execution_count": null,
      "outputs": [
        {
          "output_type": "stream",
          "name": "stdout",
          "text": [
            "   OBJECTID DNAME2014                                           geometry\n",
            "0         1    MASAKA  POLYGON ((32.00051 -0.60761, 32.00053 -0.60993...\n",
            "1         2  ALEBTONG  POLYGON ((33.41593 2.14287, 33.41520 2.14219, ...\n",
            "2         3   BUKEDEA  POLYGON ((34.20871 1.23683, 34.20847 1.23637, ...\n",
            "3         4     BUSIA  POLYGON ((34.01262 0.24410, 34.01199 0.24363, ...\n",
            "4         5    MOROTO  POLYGON ((34.90168 2.56680, 34.90168 2.56680, ...\n",
            "   OBJECTID   SNAME2014                                           geometry\n",
            "0      1001     KAKOOGE  POLYGON ((32.36852 1.28129, 32.36862 1.28116, ...\n",
            "1      1002     KALUNGI  POLYGON ((32.65120 1.43626, 32.65483 1.43618, ...\n",
            "2      1003   LWABIYATA  POLYGON ((32.44624 1.46113, 32.44397 1.45635, ...\n",
            "3      1004   LWAMPANGA  POLYGON ((32.51158 1.52129, 32.51195 1.52123, ...\n",
            "4      1005  NABISWEERA  POLYGON ((32.30877 1.25890, 32.30877 1.25890, ...\n",
            "    DN                                           geometry\n",
            "0  212  POLYGON ((609120.000 466020.000, 609180.000 46...\n",
            "1  212  POLYGON ((608820.000 462780.000, 608880.000 46...\n",
            "2  212  POLYGON ((607620.000 460020.000, 607680.000 46...\n",
            "3  212  POLYGON ((606360.000 458280.000, 606420.000 45...\n",
            "4  212  POLYGON ((601260.000 457560.000, 601320.000 45...\n",
            "   DN                                           geometry\n",
            "0   6  POLYGON ((609732.781 467760.000, 609720.000 46...\n",
            "1   6  POLYGON ((609840.000 467661.872, 609840.000 46...\n",
            "2   6  POLYGON ((606540.000 464340.000, 606600.000 46...\n",
            "3   6  POLYGON ((614040.000 461640.000, 614160.000 46...\n",
            "4   6  POLYGON ((613320.000 460680.000, 613380.000 46...\n"
          ]
        }
      ]
    },
    {
      "cell_type": "markdown",
      "source": [
        "3.Merge the tabular data with the shapefiles:"
      ],
      "metadata": {
        "id": "ndk1MPOF_I5I"
      }
    },
    {
      "cell_type": "code",
      "source": [
        "# Merge subcounty data\n",
        "merged_subcounty = subcounties_shp.merge(yield_subcounty, left_on='SNAME2014', right_on='SUBCOUNTY_NAME', how='left')\n",
        "\n",
        "# Merge district data\n",
        "merged_district = districts_shp.merge(yield_district, left_on='DNAME2014', right_on='NAME', how='left')\n",
        "\n",
        "# Check the results\n",
        "print(merged_subcounty.head())\n",
        "print(merged_district.head())"
      ],
      "metadata": {
        "colab": {
          "base_uri": "https://localhost:8080/"
        },
        "id": "3hhuAbNq_WWh",
        "outputId": "d5084211-c00a-4778-bd3f-129a8d99fe07",
        "collapsed": true
      },
      "execution_count": null,
      "outputs": [
        {
          "output_type": "stream",
          "name": "stdout",
          "text": [
            "   OBJECTID_x   SNAME2014                                           geometry  \\\n",
            "0        1001     KAKOOGE  POLYGON ((32.36852 1.28129, 32.36862 1.28116, ...   \n",
            "1        1002     KALUNGI  POLYGON ((32.65120 1.43626, 32.65483 1.43618, ...   \n",
            "2        1003   LWABIYATA  POLYGON ((32.44624 1.46113, 32.44397 1.45635, ...   \n",
            "3        1004   LWAMPANGA  POLYGON ((32.51158 1.52129, 32.51195 1.52123, ...   \n",
            "4        1005  NABISWEERA  POLYGON ((32.30877 1.25890, 32.30877 1.25890, ...   \n",
            "\n",
            "   OBJECTID_y SUBCOUNTY_NAME DISTRICT_NAME  POP  Area Karamoja  S_Yield_Ha  \\\n",
            "0         NaN            NaN           NaN  NaN   NaN      NaN         NaN   \n",
            "1         NaN            NaN           NaN  NaN   NaN      NaN         NaN   \n",
            "2         NaN            NaN           NaN  NaN   NaN      NaN         NaN   \n",
            "3         NaN            NaN           NaN  NaN   NaN      NaN         NaN   \n",
            "4         NaN            NaN           NaN  NaN   NaN      NaN         NaN   \n",
            "\n",
            "   M_Yield_Ha  Crop_Area_Ha  S_Area_Ha  M_Area_Ha  S_Prod_Tot  M_Prod_Tot  \n",
            "0         NaN           NaN        NaN        NaN         NaN         NaN  \n",
            "1         NaN           NaN        NaN        NaN         NaN         NaN  \n",
            "2         NaN           NaN        NaN        NaN         NaN         NaN  \n",
            "3         NaN           NaN        NaN        NaN         NaN         NaN  \n",
            "4         NaN           NaN        NaN        NaN         NaN         NaN  \n",
            "   OBJECTID_x DNAME2014                                           geometry  \\\n",
            "0           1    MASAKA  POLYGON ((32.00051 -0.60761, 32.00053 -0.60993...   \n",
            "1           2  ALEBTONG  POLYGON ((33.41593 2.14287, 33.41520 2.14219, ...   \n",
            "2           3   BUKEDEA  POLYGON ((34.20871 1.23683, 34.20847 1.23637, ...   \n",
            "3           4     BUSIA  POLYGON ((34.01262 0.24410, 34.01199 0.24363, ...   \n",
            "4           5    MOROTO  POLYGON ((34.90168 2.56680, 34.90168 2.56680, ...   \n",
            "\n",
            "   OBJECTID_y    NAME       POP          Area  S_Yield_Ha  M_Yield_Ha  \\\n",
            "0         NaN     NaN       NaN           NaN         NaN         NaN   \n",
            "1         NaN     NaN       NaN           NaN         NaN         NaN   \n",
            "2         NaN     NaN       NaN           NaN         NaN         NaN   \n",
            "3         NaN     NaN       NaN           NaN         NaN         NaN   \n",
            "4         5.0  MOROTO  127811.0  3.570161e+09       128.0       355.0   \n",
            "\n",
            "   Crop_Area_Ha    S_Area_Ha    M_Area_Ha  S_Prod_Tot  M_Prod_Tot  \n",
            "0           NaN          NaN          NaN         NaN         NaN  \n",
            "1           NaN          NaN          NaN         NaN         NaN  \n",
            "2           NaN          NaN          NaN         NaN         NaN  \n",
            "3           NaN          NaN          NaN         NaN         NaN  \n",
            "4   5954.814048  4741.748776  1190.050606    606944.0    422468.0  \n"
          ]
        }
      ]
    },
    {
      "cell_type": "markdown",
      "source": [
        "Handle any missing data resulting from the merge\n",
        "\n",
        "Check and handle any missing data that may have resulted from the merge"
      ],
      "metadata": {
        "id": "RZhT7EiqLhR-"
      }
    },
    {
      "cell_type": "code",
      "source": [
        "# Check for missing values\n",
        "merged_subcounty.isnull().sum()\n",
        "merged_district.isnull().sum()\n",
        "# Fill missing values or drop rows as appropriate\n",
        "merged_subcounty = merged_subcounty.dropna(subset=['S_Yield_Ha', 'M_Yield_Ha'])\n",
        "merged_district = merged_district.dropna(subset=['S_Yield_Ha', 'M_Yield_Ha'])\n",
        "\n"
      ],
      "metadata": {
        "id": "N5IvPh6JLjPL"
      },
      "execution_count": null,
      "outputs": []
    },
    {
      "cell_type": "markdown",
      "source": [
        "4.Create a function to plot the data for visual verification:"
      ],
      "metadata": {
        "id": "PlXnlJJbL4sm"
      }
    },
    {
      "cell_type": "code",
      "source": [
        "def plot_choropleth(gdf, column, title):\n",
        "    fig, ax = plt.subplots(1, 1, figsize=(15, 10))\n",
        "    gdf.plot(column=column, ax=ax, legend=True, cmap='YlOrRd', legend_kwds={'label': column, 'orientation': \"horizontal\"})\n",
        "    ax.set_title(title)\n",
        "    plt.axis('off')\n",
        "    plt.show()\n",
        "\n",
        "# Plot sorghum yield by subcounty\n",
        "plot_choropleth(merged_subcounty, 'S_Yield_Ha', 'Sorghum Yield by Subcounty')\n",
        "\n",
        "# Plot maize yield by district\n",
        "plot_choropleth(merged_district, 'M_Yield_Ha', 'Maize Yield by District')"
      ],
      "metadata": {
        "colab": {
          "base_uri": "https://localhost:8080/",
          "height": 1000
        },
        "id": "zoPjalhbL-kb",
        "outputId": "f8010eed-4876-4f0f-d62e-6554fe647f4f"
      },
      "execution_count": null,
      "outputs": [
        {
          "output_type": "display_data",
          "data": {
            "text/plain": [
              "<Figure size 1500x1000 with 2 Axes>"
            ],
            "image/png": "[encoded data removed]"
          },
          "metadata": {}
        },
        {
          "output_type": "display_data",
          "data": {
            "text/plain": [
              "<Figure size 1500x1000 with 2 Axes>"
            ],
            "image/png": "[encoded data removed]"
          },
          "metadata": {}
        }
      ]
    },
    {
      "cell_type": "markdown",
      "source": [
        "4.Integrate crop type maps\n",
        "\n",
        "Verified and standardized Coordinate Reference Systems (CRS)"
      ],
      "metadata": {
        "id": "dIC4GKwDMJvi"
      }
    },
    {
      "cell_type": "code",
      "source": [
        "print(\"Subcounties CRS:\", subcounties_shp.crs)\n",
        "print(\"Sorghum CRS:\", sorghum_shp.crs)\n",
        "print(\"Maize CRS:\", maize_shp.crs)"
      ],
      "metadata": {
        "colab": {
          "base_uri": "https://localhost:8080/"
        },
        "collapsed": true,
        "id": "xIPVzgmMMPyb",
        "outputId": "99392e1d-b776-4e36-9c84-2da9c20ae3d6"
      },
      "execution_count": null,
      "outputs": [
        {
          "output_type": "stream",
          "name": "stdout",
          "text": [
            "Subcounties CRS: EPSG:32636\n",
            "Sorghum CRS: EPSG:32636\n",
            "Maize CRS: EPSG:32636\n"
          ]
        }
      ]
    },
    {
      "cell_type": "markdown",
      "source": [
        "Reprojecting all shapefiles to EPSG:32636 (UTM zone 36N) for accurate area calculations"
      ],
      "metadata": {
        "id": "7pzZ_YObLkH_"
      }
    },
    {
      "cell_type": "code",
      "source": [
        "# abcounties_shp = subcounties_shp.to_crs('EPSG:32636')\n",
        "sorghum_shp = sorghum_shp.to_crs('EPSG:32636')\n",
        "maize_shp = maize_shp.to_crs('EPSG:32636')"
      ],
      "metadata": {
        "id": "FcXYwf9JjWtJ"
      },
      "execution_count": null,
      "outputs": []
    },
    {
      "cell_type": "markdown",
      "source": [
        "Now we can perform the overlay operations:"
      ],
      "metadata": {
        "id": "Zc30ABWNMKAV"
      }
    },
    {
      "cell_type": "code",
      "source": [
        "sorghum_area = gpd.overlay(subcounties_shp, sorghum_shp, how='intersection')\n",
        "maize_area = gpd.overlay(subcounties_shp, maize_shp, how='intersection')"
      ],
      "metadata": {
        "id": "OOMeX3NXjlyh"
      },
      "execution_count": null,
      "outputs": []
    },
    {
      "cell_type": "markdown",
      "source": [
        "Calculate the areas (now in square meters):"
      ],
      "metadata": {
        "id": "JiOjsnZTMV6f"
      }
    },
    {
      "cell_type": "code",
      "source": [
        "sorghum_area['sorghum_area'] = sorghum_area.geometry.area\n",
        "maize_area['maize_area'] = maize_area.geometry.area\n",
        "\n",
        "# Convert to hectares if desired\n",
        "sorghum_area['sorghum_area_ha'] = sorghum_area['sorghum_area'] / 10000\n",
        "maize_area['maize_area_ha'] = maize_area['maize_area'] / 10000"
      ],
      "metadata": {
        "id": "oX93SP8vjm7j"
      },
      "execution_count": null,
      "outputs": []
    },
    {
      "cell_type": "markdown",
      "source": [
        "Aggregate areas by subcounty:\n",
        "\n"
      ],
      "metadata": {
        "id": "eXTIVU8gMijU"
      }
    },
    {
      "cell_type": "code",
      "source": [
        "sorghum_area_by_subcounty = sorghum_area.groupby('SNAME2014')['sorghum_area_ha'].sum().reset_index()\n",
        "maize_area_by_subcounty = maize_area.groupby('SNAME2014')['maize_area_ha'].sum().reset_index()"
      ],
      "metadata": {
        "id": "jvATL-jujoFJ"
      },
      "execution_count": null,
      "outputs": []
    },
    {
      "cell_type": "markdown",
      "source": [
        "Merge area data with the main dataset:"
      ],
      "metadata": {
        "id": "V4ztJlkqMlGt"
      }
    },
    {
      "cell_type": "code",
      "source": [
        "merged_subcounty = merged_subcounty.merge(sorghum_area_by_subcounty, left_on='SNAME2014', right_on='SNAME2014', how='left')\n",
        "merged_subcounty = merged_subcounty.merge(maize_area_by_subcounty, left_on='SNAME2014', right_on='SNAME2014', how='left')"
      ],
      "metadata": {
        "id": "jJHbidYPk4Ya"
      },
      "execution_count": null,
      "outputs": []
    },
    {
      "cell_type": "markdown",
      "source": [
        "Save the final integrated datasets:"
      ],
      "metadata": {
        "id": "xd3dH_X0M0sr"
      }
    },
    {
      "cell_type": "code",
      "source": [
        "# Function to truncate column names as merging is not possible because of column length\n",
        "def truncate_column_names(gdf, max_length=10):\n",
        "    gdf.columns = [col[:max_length] for col in gdf.columns]\n",
        "    return gdf\n",
        "\n",
        "merged_subcounty = truncate_column_names(merged_subcounty)\n",
        "merged_district = truncate_column_names(merged_district)"
      ],
      "metadata": {
        "id": "7-kZwW4gNV82"
      },
      "execution_count": null,
      "outputs": []
    },
    {
      "cell_type": "code",
      "source": [
        "# Function to scale down large numbers\n",
        "def scale_large_numbers(gdf, columns_to_scale, scale_factor=1e-6):\n",
        "    for col in columns_to_scale:\n",
        "        if col in gdf.columns:\n",
        "            gdf[col] = gdf[col] * scale_factor\n",
        "    return gdf\n",
        "\n",
        "# Identify columns with large numbers\n",
        "large_number_columns = ['Area', 'POP', 'Crop_Area_', 'S_Area_Ha', 'M_Area_Ha', 'S_Prod_Tot', 'M_Prod_Tot']\n",
        "\n",
        "merged_subcounty = scale_large_numbers(merged_subcounty, large_number_columns)\n",
        "merged_district = scale_large_numbers(merged_district, large_number_columns)"
      ],
      "metadata": {
        "id": "Udf3Q84lNfiQ"
      },
      "execution_count": null,
      "outputs": []
    },
    {
      "cell_type": "markdown",
      "source": [
        "Save the final integrated datasets:"
      ],
      "metadata": {
        "id": "RhmuB5owMjIq"
      }
    },
    {
      "cell_type": "code",
      "source": [
        "#Check and drop any duplicate columns in the dataset\n",
        "print(merged_subcounty.columns.duplicated())\n",
        "print(merged_district.columns.duplicated())\n"
      ],
      "metadata": {
        "colab": {
          "base_uri": "https://localhost:8080/"
        },
        "id": "c2Qs6aCuschT",
        "outputId": "37ce3959-08cc-449f-b43f-0ef0dde2aa21"
      },
      "execution_count": null,
      "outputs": [
        {
          "output_type": "stream",
          "name": "stdout",
          "text": [
            "[False False False False False False False False False False False False\n",
            " False False False False]\n",
            "[False False False False False False False False False False False False\n",
            " False False]\n"
          ]
        }
      ]
    },
    {
      "cell_type": "code",
      "source": [
        "merged_subcounty.drop(columns=merged_subcounty.columns[merged_subcounty.columns.duplicated()], inplace=True)"
      ],
      "metadata": {
        "id": "yTOFXxAqtEoI"
      },
      "execution_count": null,
      "outputs": []
    },
    {
      "cell_type": "code",
      "source": [
        "# Save as shapefiles for use in Tableau\n",
        "merged_subcounty.to_file('integrated_subcounty_data.shp')\n",
        "merged_district.to_file('integrated_district_data.shp')\n",
        "\n",
        "# Also save as CSV for easier handling if needed\n",
        "merged_subcounty.to_csv('integrated_subcounty_data.csv', index=False)\n",
        "merged_district.to_csv('integrated_district_data.csv', index=False)\n",
        "\n",
        "#the saved dataset will be transferred to Tableau for the visualizations"
      ],
      "metadata": {
        "id": "G1pRv4opn_AY"
      },
      "execution_count": null,
      "outputs": []
    },
    {
      "cell_type": "markdown",
      "source": [
        "**Conclusion and Recommendations**\n",
        "\n",
        "**Conclusion**\n",
        "\n",
        "The Food Security Monitoring Tool developed for the Karamoja region of Uganda provides valuable insights into the agricultural productivity and food security situation. By visualizing yield data for sorghum and maize across different administrative levels, this tool offers a comprehensive overview of the region's crop production.\n",
        "Key findings include:\n",
        "\n",
        "Spatial variation in crop yields across districts and sub-counties\n",
        "\n",
        "Correlation between crop yields and population density\n",
        "\n",
        "Identification of areas with particularly low yields, indicating potential food insecurity hotspots\n",
        "\n",
        "\n",
        "\n",
        "Correlation between crop yields and population density\n",
        "\n",
        "Identification of areas with particularly low yields, indicating potential food insecurity hotspots\n",
        "\n",
        "\n",
        "\n",
        "**Recommendations**\n",
        "\n",
        "Based on the analysis and visualization of the crop yield data, we recommend the following actions:\n",
        "\n",
        "\n",
        "Focus immediate support on sub-counties with the lowest crop yields, particularly those with high population densities.\n",
        "Develop targeted strategies for areas showing significant discrepancies between sorghum and maize yields.\n",
        "\n",
        "\n",
        "Integrate predictive modeling to forecast potential yield outcomes based on current conditions.\n",
        "Develop functionality to compare data across multiple years to identify long-term trends.\n",
        "\n",
        "\n",
        "Expand geographical coverage:\n",
        "\n",
        "Consider expanding the tool to cover other food-insecure regions in Uganda or neighboring countries."
      ],
      "metadata": {
        "id": "QEHGyyzHg2cO"
      }
    }
  ]
}